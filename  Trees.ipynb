{
 "cells": [
  {
   "cell_type": "markdown",
   "metadata": {
    "id": "SHd1nx5uQwOZ"
   },
   "source": [
    "# Implement Binary tree\n"
   ]
  },
  {
   "cell_type": "code",
   "execution_count": 14,
   "metadata": {
    "id": "2gZ4jXKoQvuL"
   },
   "outputs": [
    {
     "name": "stdout",
     "output_type": "stream",
     "text": [
      "1\n",
      "3\n",
      "4\n",
      "5\n",
      "6\n",
      "7\n",
      "9\n"
     ]
    }
   ],
   "source": [
    "# Python program to introduce Binary Tree\n",
    "\n",
    "# A class that represents an individual node\n",
    "# in a Binary Tree\n",
    "class TreeNode:\n",
    "    def __init__(self, val):\n",
    "        self.val = val\n",
    "        self.left = None\n",
    "        self.right = None\n",
    "\n",
    "class BinaryTree:\n",
    "    def __init__(self):\n",
    "        self.root = None\n",
    "\n",
    "    def insert(self, val):\n",
    "        new_node = TreeNode(val)\n",
    "        if not self.root:\n",
    "            self.root = new_node\n",
    "            return\n",
    "\n",
    "        current = self.root\n",
    "        while current:\n",
    "            if val < current.val:\n",
    "                if current.left:\n",
    "                    current = current.left\n",
    "                else:\n",
    "                    current.left = new_node\n",
    "                    return\n",
    "            else:\n",
    "                if current.right:\n",
    "                    current = current.right\n",
    "                else:\n",
    "                    current.right = new_node\n",
    "                    return\n",
    "\n",
    "    def search(self, val):\n",
    "        current = self.root\n",
    "        while current:\n",
    "            if current.val == val:\n",
    "                return True\n",
    "            elif val < current.val:\n",
    "                current = current.left\n",
    "            else:\n",
    "                current = current.right\n",
    "        return False\n",
    "\n",
    "    def preorder_traversal(self, node):\n",
    "        if node:\n",
    "            print(node.val)\n",
    "            self.preorder_traversal(node.left)\n",
    "            self.preorder_traversal(node.right)\n",
    "\n",
    "    def inorder_traversal(self, node):\n",
    "        if node:\n",
    "            self.inorder_traversal(node.left)\n",
    "            print(node.val)\n",
    "            self.inorder_traversal(node.right)\n",
    "\n",
    "    def postorder_traversal(self, node):\n",
    "        if node:\n",
    "            self.postorder_traversal(node.left)\n",
    "            self.postorder_traversal(node.right)\n",
    "            print(node.val)\n",
    "\n",
    "    def print_tree(self):\n",
    "        self.inorder_traversal(self.root)\n",
    "# Create a new BinaryTree object\n",
    "tree = BinaryTree()\n",
    "\n",
    "# Insert some values into the tree\n",
    "tree.insert(5)\n",
    "tree.insert(3)\n",
    "tree.insert(7)\n",
    "tree.insert(1)\n",
    "tree.insert(9)\n",
    "tree.insert(4)\n",
    "tree.insert(6)\n",
    "\n",
    "# Print the contents of the tree in sorted order\n",
    "tree.print_tree()\n"
   ]
  },
  {
   "cell_type": "markdown",
   "metadata": {
    "id": "7ory_KkKRDZ-"
   },
   "source": [
    "# Find height of a given tree\n"
   ]
  },
  {
   "cell_type": "code",
   "execution_count": 2,
   "metadata": {
    "colab": {
     "base_uri": "https://localhost:8080/"
    },
    "id": "cGe_2hxYQvtB",
    "outputId": "f34c1d6e-3384-47e8-bf46-de44f2687069"
   },
   "outputs": [
    {
     "name": "stdout",
     "output_type": "stream",
     "text": [
      "The height of the binary tree is 3\n"
     ]
    }
   ],
   "source": [
    "# A class to store a binary tree node\n",
    "class Node:\n",
    "    def __init__(self, key=None, left=None, right=None):\n",
    "        self.key = key\n",
    "        self.left = left\n",
    "        self.right = right\n",
    " \n",
    " \n",
    "# Recursive function to calculate the height of a given binary tree\n",
    "def height(root):\n",
    " \n",
    "    # base case: empty tree has a height of 0\n",
    "    if root is None:\n",
    "        return 0\n",
    " \n",
    "    # recur for the left and right subtree and consider maximum depth\n",
    "    return 1 + max(height(root.left), height(root.right))\n",
    " \n",
    "if __name__ == '__main__':\n",
    " \n",
    "    root = Node(15)\n",
    "    root.left = Node(10)\n",
    "    root.right = Node(20)\n",
    "    root.left.left = Node(8)\n",
    "    root.left.right = Node(12)\n",
    "    root.right.left = Node(16)\n",
    "    root.right.right = Node(25)\n",
    " \n",
    "    print('The height of the binary tree is', height(root))"
   ]
  },
  {
   "cell_type": "markdown",
   "metadata": {
    "id": "tUGMYM_8Re17"
   },
   "source": [
    "# Perform Pre-order, Post-order, In-order traversal\n"
   ]
  },
  {
   "cell_type": "code",
   "execution_count": 3,
   "metadata": {
    "colab": {
     "base_uri": "https://localhost:8080/"
    },
    "id": "zfL0MNJ9Qvrw",
    "outputId": "1b8384dd-69c7-4483-e22c-3ac860b5f2be"
   },
   "outputs": [
    {
     "name": "stdout",
     "output_type": "stream",
     "text": [
      "Preorder Traversal:  1 2 4 5 3 6 7 \n",
      "Inorder Traversal:  4 2 5 1 6 3 7 \n",
      "Postorder Traversal:  4 5 2 6 7 3 1 \n"
     ]
    }
   ],
   "source": [
    "class Node:\n",
    "\tdef __init__(self, x):\n",
    "\t\tself.data = x\n",
    "\t\tself.left = None\n",
    "\t\tself.right = None\n",
    "\n",
    "# Function to print all nodes of a\n",
    "# binary tree in Preorder, Postorder\n",
    "# and Inorder using only one stack\n",
    "def allTraversal(root):\n",
    "\n",
    "\t# Stores preorder traversal\n",
    "\tpre = []\n",
    "\n",
    "\t# Stores inorder traversal\n",
    "\tpost = []\n",
    "\n",
    "\t# Stores postorder traversal\n",
    "\tinn = []\n",
    "\n",
    "\t# Stores the nodes and the order\n",
    "\t# in which they are currently visited\n",
    "\ts = []\n",
    "\n",
    "\t# Push root node of the tree\n",
    "\t# into the stack\n",
    "\ts.append([root, 1])\n",
    "\n",
    "\t# Traverse the stack while\n",
    "\t# the stack is not empty\n",
    "\twhile (len(s) > 0):\n",
    "\n",
    "\t\t# Stores the top\n",
    "\t\t# element of the stack\n",
    "\t\tp = s[-1]\n",
    "\t\t#del s[-1]\n",
    "\n",
    "\t\t# If the status of top node\n",
    "\t\t# of the stack is 1\n",
    "\t\tif (p[1] == 1):\n",
    "\n",
    "\t\t\t# Update the status\n",
    "\t\t\t# of top node\n",
    "\t\t\ts[-1][1] += 1\n",
    "\n",
    "\t\t\t# Insert the current node\n",
    "\t\t\t# into preorder, pre[]\n",
    "\t\t\tpre.append(p[0].data)\n",
    "\n",
    "\t\t\t# If left child is not NULL\n",
    "\t\t\tif (p[0].left):\n",
    "\n",
    "\t\t\t\t# Insert the left subtree\n",
    "\t\t\t\t# with status code 1\n",
    "\t\t\t\ts.append([p[0].left, 1])\n",
    "\n",
    "\t\t# If the status of top node\n",
    "\t\t# of the stack is 2\n",
    "\t\telif (p[1] == 2):\n",
    "\n",
    "\t\t\t# Update the status\n",
    "\t\t\t# of top node\n",
    "\t\t\ts[-1][1] += 1\n",
    "\n",
    "\t\t\t# Insert the current node\n",
    "\t\t\t# in inorder, in[]\n",
    "\t\t\tinn.append(p[0].data);\n",
    "\n",
    "\t\t\t# If right child is not NULL\n",
    "\t\t\tif (p[0].right):\n",
    "\n",
    "\t\t\t\t# Insert the right subtree into\n",
    "\t\t\t\t# the stack with status code 1\n",
    "\t\t\t\ts.append([p[0].right, 1])\n",
    "\n",
    "\t\t# If the status of top node\n",
    "\t\t# of the stack is 3\n",
    "\t\telse:\n",
    "\n",
    "\t\t\t# Push the current node\n",
    "\t\t\t# in post[]\n",
    "\t\t\tpost.append(p[0].data);\n",
    "\n",
    "\t\t\t# Pop the top node\n",
    "\t\t\tdel s[-1]\n",
    "\n",
    "\tprint(\"Preorder Traversal: \",end=\" \")\n",
    "\tfor i in pre:\n",
    "\t\tprint(i,end=\" \")\n",
    "\tprint()\n",
    "\n",
    "\t# Printing Inorder\n",
    "\tprint(\"Inorder Traversal: \",end=\" \")\n",
    "\n",
    "\tfor i in inn:\n",
    "\t\tprint(i,end=\" \")\n",
    "\tprint()\n",
    "\n",
    "\t# Printing Postorder\n",
    "\tprint(\"Postorder Traversal: \",end=\" \")\n",
    "\n",
    "\tfor i in post:\n",
    "\t\tprint(i,end=\" \")\n",
    "\tprint()\n",
    "\n",
    "\n",
    "# Driver Code\n",
    "if __name__ == '__main__':\n",
    "\n",
    "\t# Creating the root\n",
    "\troot = Node(1)\n",
    "\troot.left = Node(2)\n",
    "\troot.right = Node(3)\n",
    "\troot.left.left = Node(4)\n",
    "\troot.left.right = Node(5)\n",
    "\troot.right.left = Node(6)\n",
    "\troot.right.right = Node(7)\n",
    "\n",
    "\t# Function call\n",
    "\tallTraversal(root)"
   ]
  },
  {
   "cell_type": "markdown",
   "metadata": {
    "id": "h3qmrk9tR3iI"
   },
   "source": [
    "# Function to print all the leaves in a given binary tree\n"
   ]
  },
  {
   "cell_type": "code",
   "execution_count": 4,
   "metadata": {
    "colab": {
     "base_uri": "https://localhost:8080/"
    },
    "id": "PLfrlc8fQvqq",
    "outputId": "65691f8f-b7f2-4a42-8af5-3e370baa80f0"
   },
   "outputs": [
    {
     "name": "stdout",
     "output_type": "stream",
     "text": [
      "4 6 7 9 10 "
     ]
    }
   ],
   "source": [
    "class Node:\n",
    "\n",
    "\tdef __init__(self, data):\n",
    "\t\tself.data = data\n",
    "\t\tself.left = None\n",
    "\t\tself.right = None\n",
    "\n",
    "# Function to print leaf\n",
    "# nodes from left to right\n",
    "def printLeafNodes(root: Node) -> None:\n",
    "\n",
    "\t# If node is null, return\n",
    "\tif (not root):\n",
    "\t\treturn\n",
    "\n",
    "\t# If node is leaf node,\n",
    "\t# print its data\n",
    "\tif (not root.left and\n",
    "\t\tnot root.right):\n",
    "\t\tprint(root.data,\n",
    "\t\t\tend = \" \")\n",
    "\t\treturn\n",
    "\n",
    "\t# If left child exists,\n",
    "\t# check for leaf recursively\n",
    "\tif root.left:\n",
    "\t\tprintLeafNodes(root.left)\n",
    "\n",
    "\t# If right child exists,\n",
    "\t# check for leaf recursively\n",
    "\tif root.right:\n",
    "\t\tprintLeafNodes(root.right)\n",
    "\n",
    "# Driver Code\n",
    "if __name__ == \"__main__\":\n",
    "\n",
    "\t# Let us create binary tree shown in\n",
    "\t# above diagram\n",
    "\troot = Node(1)\n",
    "\troot.left = Node(2)\n",
    "\troot.right = Node(3)\n",
    "\troot.left.left = Node(4)\n",
    "\troot.right.left = Node(5)\n",
    "\troot.right.right = Node(8)\n",
    "\troot.right.left.left = Node(6)\n",
    "\troot.right.left.right = Node(7)\n",
    "\troot.right.right.left = Node(9)\n",
    "\troot.right.right.right = Node(10)\n",
    "\n",
    "\t# print leaf nodes of the given tree\n",
    "\tprintLeafNodes(root)"
   ]
  },
  {
   "cell_type": "markdown",
   "metadata": {
    "id": "AetGxCDuSiQv"
   },
   "source": [
    "# Implement BFS (Breath First Search)  \n"
   ]
  },
  {
   "cell_type": "code",
   "execution_count": 5,
   "metadata": {
    "colab": {
     "base_uri": "https://localhost:8080/"
    },
    "id": "v9fNLQEuQvpG",
    "outputId": "99335301-42b2-4419-a900-1fbe25fddd94"
   },
   "outputs": [
    {
     "name": "stdout",
     "output_type": "stream",
     "text": [
      "Following is Breadth First Traversal (starting from vertex 2)\n",
      "2 0 3 1 "
     ]
    }
   ],
   "source": [
    "# Python3 Program to print BFS traversal\n",
    "# from a given source vertex. BFS(int s)\n",
    "# traverses vertices reachable from s.\n",
    "from collections import defaultdict\n",
    "\n",
    "# This class represents a directed graph\n",
    "# using adjacency list representation\n",
    "class Graph:\n",
    "\n",
    "\t# Constructor\n",
    "\tdef __init__(self):\n",
    "\n",
    "\t\t# default dictionary to store graph\n",
    "\t\tself.graph = defaultdict(list)\n",
    "\n",
    "\t# function to add an edge to graph\n",
    "\tdef addEdge(self,u,v):\n",
    "\t\tself.graph[u].append(v)\n",
    "\n",
    "\t# Function to print a BFS of graph\n",
    "\tdef BFS(self, s):\n",
    "\n",
    "\t\t# Mark all the vertices as not visited\n",
    "\t\tvisited = [False] * (max(self.graph) + 1)\n",
    "\n",
    "\t\t# Create a queue for BFS\n",
    "\t\tqueue = []\n",
    "\n",
    "\t\t# Mark the source node as\n",
    "\t\t# visited and enqueue it\n",
    "\t\tqueue.append(s)\n",
    "\t\tvisited[s] = True\n",
    "\n",
    "\t\twhile queue:\n",
    "\n",
    "\t\t\t# Dequeue a vertex from\n",
    "\t\t\t# queue and print it\n",
    "\t\t\ts = queue.pop(0)\n",
    "\t\t\tprint (s, end = \" \")\n",
    "\n",
    "\t\t\t# Get all adjacent vertices of the\n",
    "\t\t\t# dequeued vertex s. If a adjacent\n",
    "\t\t\t# has not been visited, then mark it\n",
    "\t\t\t# visited and enqueue it\n",
    "\t\t\tfor i in self.graph[s]:\n",
    "\t\t\t\tif visited[i] == False:\n",
    "\t\t\t\t\tqueue.append(i)\n",
    "\t\t\t\t\tvisited[i] = True\n",
    "\n",
    "# Driver code\n",
    "\n",
    "# Create a graph given in\n",
    "# the above diagram\n",
    "g = Graph()\n",
    "g.addEdge(0, 1)\n",
    "g.addEdge(0, 2)\n",
    "g.addEdge(1, 2)\n",
    "g.addEdge(2, 0)\n",
    "g.addEdge(2, 3)\n",
    "g.addEdge(3, 3)\n",
    "\n",
    "print (\"Following is Breadth First Traversal\"\n",
    "\t\t\t\t\" (starting from vertex 2)\")\n",
    "g.BFS(2)\n"
   ]
  },
  {
   "cell_type": "markdown",
   "metadata": {
    "id": "uD2WcSNpTCay"
   },
   "source": [
    "# Implement DFS (Depth First Search)"
   ]
  },
  {
   "cell_type": "code",
   "execution_count": 6,
   "metadata": {
    "colab": {
     "base_uri": "https://localhost:8080/"
    },
    "id": "xwYKayLt6keO",
    "outputId": "f3f19f8d-953e-499a-8b01-54e4cddff07a"
   },
   "outputs": [
    {
     "name": "stdout",
     "output_type": "stream",
     "text": [
      "0\n",
      "1\n",
      "4\n",
      "3\n",
      "2\n",
      "3\n",
      "2\n"
     ]
    },
    {
     "data": {
      "text/plain": [
       "{'0', '1', '2', '3', '4'}"
      ]
     },
     "execution_count": 6,
     "metadata": {},
     "output_type": "execute_result"
    }
   ],
   "source": [
    "# DFS algorithm in Python\n",
    "\n",
    "\n",
    "# DFS algorithm\n",
    "def dfs(graph, start, visited=None):\n",
    "    if visited is None:\n",
    "        visited = set()\n",
    "    visited.add(start)\n",
    "\n",
    "    print(start)\n",
    "\n",
    "    for next in graph[start] - visited:\n",
    "        dfs(graph, next, visited)\n",
    "    return visited\n",
    "\n",
    "\n",
    "graph = {'0': set(['1', '2']),\n",
    "         '1': set(['0', '3', '4']),\n",
    "         '2': set(['0']),\n",
    "         '3': set(['1']),\n",
    "         '4': set(['2', '3'])}\n",
    "\n",
    "dfs(graph, '0')"
   ]
  },
  {
   "cell_type": "markdown",
   "metadata": {
    "id": "MaxEtGGmTUHS"
   },
   "source": [
    "# Find sum of all left leaves in a given Binary Tree\n"
   ]
  },
  {
   "cell_type": "code",
   "execution_count": 7,
   "metadata": {
    "colab": {
     "base_uri": "https://localhost:8080/"
    },
    "id": "axyR8siJQvmN",
    "outputId": "a56f34e3-f82f-4d5a-a379-e20e0c88fc50"
   },
   "outputs": [
    {
     "name": "stdout",
     "output_type": "stream",
     "text": [
      "Sum of left leaves is 78\n"
     ]
    }
   ],
   "source": [
    "# Python program to find sum of all left leaves\n",
    "\n",
    "# A Binary tree node\n",
    "class Node:\n",
    "\t# Constructor to create a new Node\n",
    "\tdef __init__(self, key):\n",
    "\t\tself.key = key\n",
    "\t\tself.left = None\n",
    "\t\tself.right = None\n",
    "\n",
    "# A utility function to check if a given node is leaf or not\n",
    "def isLeaf(node):\n",
    "\tif node is None:\n",
    "\t\treturn False\n",
    "\tif node.left is None and node.right is None:\n",
    "\t\treturn True\n",
    "\treturn False\n",
    "\n",
    "# This function return sum of all left leaves in a\n",
    "# given binary tree\n",
    "def leftLeavesSum(root):\n",
    "\n",
    "\t# Initialize result\n",
    "\tres = 0\n",
    "\t\n",
    "\t# Update result if root is not None\n",
    "\tif root is not None:\n",
    "\n",
    "\t\t# If left of root is None, then add key of\n",
    "\t\t# left child\n",
    "\t\tif isLeaf(root.left):\n",
    "\t\t\tres += root.left.key\n",
    "\t\telse:\n",
    "\t\t\t# Else recur for left child of root\n",
    "\t\t\tres += leftLeavesSum(root.left)\n",
    "\n",
    "\t\t# Recur for right child of root and update res\n",
    "\t\tres += leftLeavesSum(root.right)\n",
    "\treturn res\n",
    "\n",
    "# Driver program to test above function\n",
    "\n",
    "# Let us construct the Binary Tree shown in the above function\n",
    "root = Node(20)\n",
    "root.left = Node(9)\n",
    "root.right = Node(49)\n",
    "root.right.left = Node(23)\t\n",
    "root.right.right = Node(52)\n",
    "root.right.right.left = Node(50)\n",
    "root.left.left = Node(5)\n",
    "root.left.right = Node(12)\n",
    "root.left.right.right = Node(12)\n",
    "print (\"Sum of left leaves is\", leftLeavesSum(root))"
   ]
  },
  {
   "cell_type": "markdown",
   "metadata": {
    "id": "Ili1nBFlTf0Z"
   },
   "source": [
    "# Find sum of all nodes of the given perfect binary tree\n"
   ]
  },
  {
   "cell_type": "code",
   "execution_count": 8,
   "metadata": {
    "colab": {
     "base_uri": "https://localhost:8080/"
    },
    "id": "Ta9SccpoQvk7",
    "outputId": "f1070296-08b0-46bb-b6e9-24b7e0bf5587"
   },
   "outputs": [
    {
     "name": "stdout",
     "output_type": "stream",
     "text": [
      "30\n"
     ]
    }
   ],
   "source": [
    "def SumNodes(l):\n",
    "\t\n",
    "\t# no of leaf nodes\n",
    "\tleafNodeCount = pow(2, l - 1)\n",
    "\n",
    "\t# list of vector to store nodes of\n",
    "\t# all of the levels\n",
    "\tvec = [[] for i in range(l)]\n",
    "\n",
    "\t# store the nodes of last level\n",
    "\t# i.e., the leaf nodes\n",
    "\tfor i in range(1, leafNodeCount + 1):\n",
    "\t\tvec[l - 1].append(i)\n",
    "\n",
    "\t# store nodes of rest of the level\n",
    "\t# by moving in bottom-up manner\n",
    "\tfor i in range(l - 2, -1, -1):\n",
    "\t\tk = 0\n",
    "\n",
    "\t\t# loop to calculate values of parent nodes\n",
    "\t\t# from the children nodes of lower level\n",
    "\t\twhile (k < len(vec[i + 1]) - 1):\n",
    "\n",
    "\t\t\t# store the value of parent node as\n",
    "\t\t\t# Sum of children nodes\n",
    "\t\t\tvec[i].append(vec[i + 1][k] +\n",
    "\t\t\t\t\t\tvec[i + 1][k + 1])\n",
    "\t\t\tk += 2\n",
    "\n",
    "\tSum = 0\n",
    "\n",
    "\t# traverse the list of vector\n",
    "\t# and calculate the Sum\n",
    "\tfor i in range(l):\n",
    "\t\tfor j in range(len(vec[i])):\n",
    "\t\t\tSum += vec[i][j]\n",
    "\n",
    "\treturn Sum\n",
    "\n",
    "# Driver Code\n",
    "if __name__ == '__main__':\n",
    "\tl = 3\n",
    "\n",
    "\tprint(SumNodes(l))"
   ]
  },
  {
   "cell_type": "markdown",
   "metadata": {
    "id": "6ffoq-xqT0PM"
   },
   "source": [
    "# Count subtress that sum up to a given value x in a binary tree\n"
   ]
  },
  {
   "cell_type": "code",
   "execution_count": 9,
   "metadata": {
    "colab": {
     "base_uri": "https://localhost:8080/"
    },
    "id": "bfy4JQU4Qvjl",
    "outputId": "ed8bd9a6-fe22-47a0-aaaa-71aed37dd0a9"
   },
   "outputs": [
    {
     "name": "stdout",
     "output_type": "stream",
     "text": [
      "1\n"
     ]
    }
   ],
   "source": [
    "# Python implementation for above approach\n",
    "count = 0;\n",
    "\n",
    "# Structure of a Node of binary tree\n",
    "class Node:\n",
    "\tdef __init__(self):\n",
    "\t\tself.data = 0;\n",
    "\t\tself.left = None;\n",
    "\t\tself.right = None;\n",
    "\n",
    "# Function to get a new Node\n",
    "def getNode(data):\n",
    "\n",
    "\t# Allocate space\n",
    "\tnewNode = Node();\n",
    "\n",
    "\t# Put in the data\n",
    "\tnewNode.data = data;\n",
    "\tnewNode.left = newNode.right = None;\n",
    "\treturn newNode;\n",
    "\n",
    "# Function to find digit sum of number\n",
    "def digitSum(N):\n",
    "\tsum = 0;\n",
    "\twhile (N > 0):\n",
    "\t\tsum += N % 10;\n",
    "\t\tN //= 10;\n",
    "\t\n",
    "\treturn sum;\n",
    "\n",
    "# Function to replace all the Nodes\n",
    "# with their digit sums using pre-order\n",
    "def replaceNodes(root):\n",
    "\tif (root == None):\n",
    "\t\treturn;\n",
    "\n",
    "\t# Assigning digit sum value\n",
    "\troot.data = digitSum(root.data);\n",
    "\n",
    "\t# Calling left sub-tree\n",
    "\treplaceNodes(root.left);\n",
    "\n",
    "\t# Calling right sub-tree\n",
    "\treplaceNodes(root.right);\n",
    "\n",
    "\n",
    "# Function to count subtrees that\n",
    "# Sum up to a given value x\n",
    "def countSubtreesWithSumX(root, x):\n",
    "\n",
    "\t# If tree is empty\n",
    "\tif (root == None):\n",
    "\t\treturn 0;\n",
    "\n",
    "\t# Sum of Nodes in the left subtree\n",
    "\tls = countSubtreesWithSumX(root.left, x);\n",
    "\n",
    "\t# Sum of Nodes in the right subtree\n",
    "\trs = countSubtreesWithSumX(root.right, x);\n",
    "\n",
    "\t# Sum of Nodes in the subtree rooted\n",
    "\t# with 'root.data'\n",
    "\tsum = ls + rs + root.data;\n",
    "\n",
    "\t# If True\n",
    "\tif (sum == x):\n",
    "\t\tcount += 1;\n",
    "\n",
    "\t# Return subtree's Nodes sum\n",
    "\treturn sum;\n",
    "\n",
    "\n",
    "# Utility function to count subtrees that\n",
    "# sum up to a given value x\n",
    "def countSubtreesWithSumXUtil(root, x):\n",
    "\n",
    "\t# If tree is empty\n",
    "\tif (root == None):\n",
    "\t\treturn 0;\n",
    "\n",
    "\tcount = 0;\n",
    "\n",
    "\t# Sum of Nodes in the left subtree\n",
    "\tls = countSubtreesWithSumX(root.left, x);\n",
    "\n",
    "\t# sum of Nodes in the right subtree\n",
    "\trs = countSubtreesWithSumX(root.right, x);\n",
    "\n",
    "\t# If tree's Nodes sum == x\n",
    "\tif ((ls + rs + root.data) == x):\n",
    "\t\tcount+=1;\n",
    "\n",
    "\t# Required count of subtrees\n",
    "\treturn count;\n",
    "\n",
    "# Driver program to test above\n",
    "if __name__ == '__main__':\n",
    "\tN = 7;\n",
    "\t'''Binary tree creation\n",
    "\t\t10\t\t\n",
    "\t\t/ \\\n",
    "\t\t2\t 3\n",
    "\t/ \\\t / \\\n",
    "\t9 3 4 7'''\n",
    "\troot = getNode(10);\n",
    "\troot.left = getNode(2);\n",
    "\troot.right = getNode(3);\n",
    "\troot.left.left = getNode(9);\n",
    "\troot.left.right = getNode(3);\n",
    "\troot.right.left = getNode(4);\n",
    "\troot.right.right = getNode(7);\n",
    "\n",
    "\t# Replacing Nodes with their\n",
    "\t# digit sum value\n",
    "\treplaceNodes(root);\n",
    "\n",
    "\tX = 29;\n",
    "\n",
    "\tprint(countSubtreesWithSumXUtil(root, X));"
   ]
  },
  {
   "cell_type": "markdown",
   "metadata": {
    "id": "9v-hHVDIT-Sy"
   },
   "source": [
    "# Find maximum level sum in Binary Tree\n"
   ]
  },
  {
   "cell_type": "code",
   "execution_count": 10,
   "metadata": {
    "colab": {
     "base_uri": "https://localhost:8080/"
    },
    "id": "z59_VdPPQvh2",
    "outputId": "7ba4babe-be85-42c0-c9ec-cdf19ec0fb27"
   },
   "outputs": [
    {
     "name": "stdout",
     "output_type": "stream",
     "text": [
      "Maximum level sum is 17\n"
     ]
    }
   ],
   "source": [
    "from collections import deque\n",
    "\n",
    "# A binary tree node has data, pointer\n",
    "# to left child and a pointer to right\n",
    "# child\n",
    "class Node:\n",
    "\t\n",
    "\tdef __init__(self, key):\n",
    "\t\t\n",
    "\t\tself.data = key\n",
    "\t\tself.left = None\n",
    "\t\tself.right = None\n",
    "\n",
    "# Function to find the maximum sum\n",
    "# of a level in tree\n",
    "# using level order traversal\n",
    "def maxLevelSum(root):\n",
    "\t\n",
    "\t# Base case\n",
    "\tif (root == None):\n",
    "\t\treturn 0\n",
    "\n",
    "\t# Initialize result\n",
    "\tresult = root.data\n",
    "\t\n",
    "\t# Do Level order traversal keeping\n",
    "\t# track of number\n",
    "\t# of nodes at every level.\n",
    "\tq = deque()\n",
    "\tq.append(root)\n",
    "\t\n",
    "\twhile (len(q) > 0):\n",
    "\t\t\n",
    "\t\t# Get the size of queue when the\n",
    "\t\t# level order traversal for one\n",
    "\t\t# level finishes\n",
    "\t\tcount = len(q)\n",
    "\n",
    "\t\t# Iterate for all the nodes in\n",
    "\t\t# the queue currently\n",
    "\t\tsum = 0\n",
    "\t\twhile (count > 0):\n",
    "\t\t\t\n",
    "\t\t\t# Dequeue an node from queue\n",
    "\t\t\ttemp = q.popleft()\n",
    "\n",
    "\t\t\t# Add this node's value to current sum.\n",
    "\t\t\tsum = sum + temp.data\n",
    "\n",
    "\t\t\t# Enqueue left and right children of\n",
    "\t\t\t# dequeued node\n",
    "\t\t\tif (temp.left != None):\n",
    "\t\t\t\tq.append(temp.left)\n",
    "\t\t\tif (temp.right != None):\n",
    "\t\t\t\tq.append(temp.right)\n",
    "\t\t\t\t\n",
    "\t\t\tcount -= 1\t\n",
    "\n",
    "\t\t# Update the maximum node count value\n",
    "\t\tresult = max(sum, result)\n",
    "\n",
    "\treturn result\n",
    "\t\n",
    "# Driver code\n",
    "if __name__ == '__main__':\n",
    "\t\n",
    "\troot = Node(1)\n",
    "\troot.left = Node(2)\n",
    "\troot.right = Node(3)\n",
    "\troot.left.left = Node(4)\n",
    "\troot.left.right = Node(5)\n",
    "\troot.right.right = Node(8)\n",
    "\troot.right.right.left = Node(6)\n",
    "\troot.right.right.right = Node(7)\n",
    "\n",
    "\t# Constructed Binary tree is:\n",
    "\t#\t\t\t 1\n",
    "\t#\t\t / \\\n",
    "\t#\t\t 2\t 3\n",
    "\t#\t / \\\t \\\n",
    "\t#\t 4 5\t 8\n",
    "\t#\t\t\t\t / \\\n",
    "\t#\t\t\t 6\t 7\t\n",
    "\tprint(\"Maximum level sum is\", maxLevelSum(root))"
   ]
  },
  {
   "cell_type": "markdown",
   "metadata": {
    "id": "28poh6stUJ94"
   },
   "source": [
    "# Print the nodes at odd levels of a tree\n"
   ]
  },
  {
   "cell_type": "code",
   "execution_count": 11,
   "metadata": {
    "colab": {
     "base_uri": "https://localhost:8080/"
    },
    "id": "B1pyOWeYQvgK",
    "outputId": "084f0b63-9386-4e8c-8f39-3a16adfa4181"
   },
   "outputs": [
    {
     "name": "stdout",
     "output_type": "stream",
     "text": [
      "1 4 5 "
     ]
    }
   ],
   "source": [
    "class newNode:\n",
    "\tdef __init__(self, data):\n",
    "\t\tself.data = data\n",
    "\t\tself.left = self.right = None\n",
    "\n",
    "def printOddNodes(root, isOdd = True):\n",
    "\t\n",
    "\t# If empty tree\n",
    "\tif (root == None):\n",
    "\t\treturn\n",
    "\n",
    "\t# If current node is of odd level\n",
    "\tif (isOdd):\n",
    "\t\tprint(root.data, end = \" \")\n",
    "\n",
    "\t# Recur for children with isOdd\n",
    "\t# switched.\n",
    "\tprintOddNodes(root.left, not isOdd)\n",
    "\tprintOddNodes(root.right, not isOdd)\n",
    "\n",
    "# Driver code\n",
    "if __name__ == '__main__':\n",
    "\troot = newNode(1)\n",
    "\troot.left = newNode(2)\n",
    "\troot.right = newNode(3)\n",
    "\troot.left.left = newNode(4)\n",
    "\troot.left.right = newNode(5)\n",
    "\tprintOddNodes(root)"
   ]
  },
  {
   "cell_type": "code",
   "execution_count": null,
   "metadata": {
    "id": "WDXuTSegQvfC"
   },
   "outputs": [],
   "source": []
  },
  {
   "cell_type": "code",
   "execution_count": null,
   "metadata": {
    "id": "iJwHWmOLQvIl"
   },
   "outputs": [],
   "source": []
  }
 ],
 "metadata": {
  "colab": {
   "collapsed_sections": [],
   "name": "DSA Advanced Assignment-3: Trees",
   "provenance": []
  },
  "kernelspec": {
   "display_name": "Python 3 (ipykernel)",
   "language": "python",
   "name": "python3"
  },
  "language_info": {
   "codemirror_mode": {
    "name": "ipython",
    "version": 3
   },
   "file_extension": ".py",
   "mimetype": "text/x-python",
   "name": "python",
   "nbconvert_exporter": "python",
   "pygments_lexer": "ipython3",
   "version": "3.9.12"
  }
 },
 "nbformat": 4,
 "nbformat_minor": 1
}
